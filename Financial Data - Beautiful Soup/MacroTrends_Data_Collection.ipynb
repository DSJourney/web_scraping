{
 "cells": [
  {
   "cell_type": "markdown",
   "metadata": {},
   "source": [
    "# Scraping Financial Data from Macrotrends.net"
   ]
  },
  {
   "cell_type": "markdown",
   "metadata": {},
   "source": [
    "- [Disclaimer](#info)\n",
    "- [Importing libraries](#imports)\n",
    "- [Creating the empty excels](#excel)\n",
    "- [Scraping the data](#pl)\n",
    "    - [Profit & Loss Statements](#pl)\n",
    "    - [Balance Sheet](#bs)\n",
    "    - [Cash Flow Statements](#cf)\n",
    "    - [Ratios](#ratios)\n",
    "    - [Stocks data](#stocks)    \n",
    "- [Next Steps](#steps)"
   ]
  },
  {
   "cell_type": "markdown",
   "metadata": {},
   "source": [
    "<a id=info></a>"
   ]
  },
  {
   "cell_type": "markdown",
   "metadata": {},
   "source": [
    "<div class=\"alert alert-info\">\n",
    "    <H2>Disclaimer:</H2>\n",
    "<ul>\n",
    "    <li>This analysis was done for learning purposes (not commercial). I am learning Python and wanted to learn webscraping</li>\n",
    "    <li>This notebook in particular is quite old, I created it 1 year ago, only 1 month after starting to learn Python\n",
    "    <li>Therefore, there are many inefficiencies that I haven't corrected yet\n",
    "    <li>The good thing is it still works! I have just tried it with recently launched version of Python 3.9.0</li>\n",
    "    <li>I am uploading it just now beacuse I want to keep track of it for future use</li>\n",
    "</ul>\n",
    "</div>"
   ]
  },
  {
   "cell_type": "markdown",
   "metadata": {},
   "source": [
    "<a id=imports></a>"
   ]
  },
  {
   "cell_type": "markdown",
   "metadata": {},
   "source": [
    "## Imports"
   ]
  },
  {
   "cell_type": "code",
   "execution_count": 22,
   "metadata": {},
   "outputs": [],
   "source": [
    "import re\n",
    "import json\n",
    "import pandas as pd\n",
    "import requests\n",
    "from bs4 import BeautifulSoup as bs"
   ]
  },
  {
   "cell_type": "markdown",
   "metadata": {},
   "source": [
    "<a id=excel></a>"
   ]
  },
  {
   "cell_type": "markdown",
   "metadata": {},
   "source": [
    "## Creating Empty Excels"
   ]
  },
  {
   "cell_type": "code",
   "execution_count": 18,
   "metadata": {},
   "outputs": [],
   "source": [
    "# Find the company you want information from and copy paste the url of the first page in macrotrends (stock-price-history)\n",
    "\n",
    "url = ['https://www.macrotrends.net/stocks/charts/FB/facebook/stock-price-history',\n",
    "       'https://www.macrotrends.net/stocks/charts/AMZN/amazon/stock-price-history',\n",
    "       'https://www.macrotrends.net/stocks/charts/AAPL/apple/stock-price-history',\n",
    "       'https://www.macrotrends.net/stocks/charts/NFLX/netflix/stock-price-history', \n",
    "       'https://www.macrotrends.net/stocks/charts/GOOGL/alphabet/stock-price-history']"
   ]
  },
  {
   "cell_type": "code",
   "execution_count": 19,
   "metadata": {},
   "outputs": [
    {
     "name": "stdout",
     "output_type": "stream",
     "text": [
      "FB/facebook\n",
      "AMZN/amazon\n",
      "AAPL/apple\n",
      "NFLX/netflix\n",
      "GOOGL/alphabet\n"
     ]
    }
   ],
   "source": [
    "# This part generates useful URL variables for the following code\n",
    "\n",
    "companies = []\n",
    "url_code = []\n",
    "\n",
    "for org in url:\n",
    "    url_section = org.split('/')[5:7]\n",
    "    ticker = url_section[0]\n",
    "    name = url_section[1]\n",
    "    url_section = ticker+'/'+name\n",
    "    \n",
    "    companies.append(name)\n",
    "    url_code.append(url_section)\n",
    "    print(url_section)"
   ]
  },
  {
   "cell_type": "code",
   "execution_count": 21,
   "metadata": {},
   "outputs": [],
   "source": [
    "# This part creates a new empty excel document in format XLSM (you can change it if you want other formats)\n",
    "# Note: for some reason I have not found out yet, you sometimes have to run this cell several times for it to work properly\n",
    "\n",
    "import openpyxl\n",
    "\n",
    "for company in companies:\n",
    "    file = 'excels/'+company+'.xlsm'\n",
    "    wb = openpyxl.Workbook()\n",
    "    ws = wb.active\n",
    "    wb.save(file)\n",
    "    wb = openpyxl.load_workbook(file, keep_vba=True)\n",
    "    wb.save(file)"
   ]
  },
  {
   "cell_type": "markdown",
   "metadata": {},
   "source": [
    "<a id=pl></a>"
   ]
  },
  {
   "cell_type": "markdown",
   "metadata": {},
   "source": [
    "## SCRAPING"
   ]
  },
  {
   "cell_type": "markdown",
   "metadata": {},
   "source": [
    "## Profit and Loss Statement"
   ]
  },
  {
   "cell_type": "markdown",
   "metadata": {},
   "source": [
    "NOTE: All the code is set to provide information at Quarterly Level. Macrotrends also allows to generate data at annual level. To do it erase \"?freq=Q\" from all the urls"
   ]
  },
  {
   "cell_type": "code",
   "execution_count": 23,
   "metadata": {},
   "outputs": [],
   "source": [
    "for company in url_code:\n",
    "    r = requests.get('https://www.macrotrends.net/stocks/charts/'+company+'/income-statement?freq=Q')\n",
    "    p = re.compile(r' var originalData = (.*?);\\r\\n\\r\\n\\r',re.DOTALL)\n",
    "    data = json.loads(p.findall(r.text)[0])\n",
    "    headers = list(data[0].keys())\n",
    "    headers.remove('popup_icon')\n",
    "    result = []\n",
    "\n",
    "    for row in data:\n",
    "        soup = bs(row['field_name'])\n",
    "        field_name = soup.select_one('a, span').text\n",
    "        fields = list(row.values())[2:]\n",
    "        fields.insert(0, field_name)\n",
    "        result.append(fields)\n",
    "\n",
    "    pd.option_context('display.max_rows', None, 'display.max_columns', None)\n",
    "    df = pd.DataFrame(result, columns = headers)\n",
    "    \n",
    "    \n",
    "    df.set_index('field_name', inplace=True)\n",
    "    \n",
    "    for i in df.columns:\n",
    "        df[i] = pd.to_numeric(df[i],errors='coerce')\n",
    "    \n",
    "    \n",
    "    name = company.split('/')\n",
    "    \n",
    "    writer = pd.ExcelWriter('excels/'+name[1]+'.xlsm', engine='openpyxl')\n",
    "    writer.book = openpyxl.load_workbook('excels/'+name[1]+'.xlsm', keep_vba= True)\n",
    "    writer.sheets = {ws.title: ws for ws in writer.book.worksheets}\n",
    "    df.to_excel(writer, sheet_name='ProfitLoss')\n",
    "    workbook = writer.book\n",
    "    workbook.filename = 'excels/'+name[1]+'.xlsm'\n",
    "    writer.save()\n",
    "    writer.close()\n",
    "    "
   ]
  },
  {
   "cell_type": "markdown",
   "metadata": {},
   "source": [
    "<a id=bs></a>"
   ]
  },
  {
   "cell_type": "markdown",
   "metadata": {},
   "source": [
    "## Balance Sheet"
   ]
  },
  {
   "cell_type": "code",
   "execution_count": 24,
   "metadata": {},
   "outputs": [],
   "source": [
    "for company in url_code:\n",
    "    r = requests.get('https://www.macrotrends.net/stocks/charts/'+company+'/balance-sheet?freq=Q')\n",
    "    p = re.compile(r' var originalData = (.*?);\\r\\n\\r\\n\\r',re.DOTALL)\n",
    "    data = json.loads(p.findall(r.text)[0])\n",
    "    headers = list(data[0].keys())\n",
    "    headers.remove('popup_icon')\n",
    "    result = []\n",
    "\n",
    "    for row in data:\n",
    "        soup = bs(row['field_name'])\n",
    "        field_name = soup.select_one('a, span').text\n",
    "        fields = list(row.values())[2:]\n",
    "        fields.insert(0, field_name)\n",
    "        result.append(fields)\n",
    "\n",
    "    pd.option_context('display.max_rows', None, 'display.max_columns', None)\n",
    "    df = pd.DataFrame(result, columns = headers)\n",
    "\n",
    "    df.set_index('field_name', inplace=True)\n",
    "    \n",
    "    for i in df.columns:\n",
    "        df[i] = pd.to_numeric(df[i],errors='coerce')\n",
    "        \n",
    "    name = company.split('/')\n",
    "    \n",
    "    writer = pd.ExcelWriter('excels/'+name[1]+'.xlsm', engine='openpyxl')\n",
    "    writer.book = openpyxl.load_workbook('excels/'+name[1]+'.xlsm', keep_vba= True)\n",
    "    writer.sheets = {ws.title: ws for ws in writer.book.worksheets}\n",
    "    df.to_excel(writer, sheet_name='BalanceSheet')\n",
    "    workbook = writer.book\n",
    "    workbook.filename = 'excels/'+name[1]+'.xlsm'\n",
    "    writer.save()\n",
    "    writer.close()"
   ]
  },
  {
   "cell_type": "markdown",
   "metadata": {},
   "source": [
    "<a id=cf></a>"
   ]
  },
  {
   "cell_type": "markdown",
   "metadata": {},
   "source": [
    "## Cashflow Statement"
   ]
  },
  {
   "cell_type": "code",
   "execution_count": 25,
   "metadata": {},
   "outputs": [],
   "source": [
    "for company in url_code:\n",
    "    r = requests.get('https://www.macrotrends.net/stocks/charts/'+company+'/cash-flow-statement?freq=Q')\n",
    "    p = re.compile(r' var originalData = (.*?);\\r\\n\\r\\n\\r',re.DOTALL)\n",
    "    data = json.loads(p.findall(r.text)[0])\n",
    "    headers = list(data[0].keys())\n",
    "    headers.remove('popup_icon')\n",
    "    result = []\n",
    "\n",
    "    for row in data:\n",
    "        soup = bs(row['field_name'])\n",
    "        field_name = soup.select_one('a, span').text\n",
    "        fields = list(row.values())[2:]\n",
    "        fields.insert(0, field_name)\n",
    "        result.append(fields)\n",
    "\n",
    "    pd.option_context('display.max_rows', None, 'display.max_columns', None)\n",
    "    df = pd.DataFrame(result, columns = headers)\n",
    "\n",
    "    df.set_index('field_name', inplace=True)\n",
    "    \n",
    "    for i in df.columns:\n",
    "        df[i] = pd.to_numeric(df[i],errors='coerce')\n",
    "        \n",
    "    name = company.split('/')\n",
    "    \n",
    "    writer = pd.ExcelWriter('excels/'+name[1]+'.xlsm', engine='openpyxl')\n",
    "    writer.book = openpyxl.load_workbook('excels/'+name[1]+'.xlsm', keep_vba= True)\n",
    "    writer.sheets = {ws.title: ws for ws in writer.book.worksheets}\n",
    "    df.to_excel(writer, sheet_name='CashFlow')\n",
    "    workbook = writer.book\n",
    "    workbook.filename = 'excels/'+name[1]+'.xlsm'\n",
    "    writer.save()\n",
    "    writer.close()"
   ]
  },
  {
   "cell_type": "markdown",
   "metadata": {},
   "source": [
    "<a id=ratios></a>"
   ]
  },
  {
   "cell_type": "markdown",
   "metadata": {},
   "source": [
    "## Financial Ratios"
   ]
  },
  {
   "cell_type": "code",
   "execution_count": 26,
   "metadata": {},
   "outputs": [],
   "source": [
    "for company in url_code:\n",
    "    r = requests.get('https://www.macrotrends.net/stocks/charts/'+company+'/financial-ratios?freq=A')\n",
    "    p = re.compile(r' var originalData = (.*?);\\r\\n\\r\\n\\r',re.DOTALL)\n",
    "    data = json.loads(p.findall(r.text)[0])\n",
    "    headers = list(data[0].keys())\n",
    "    headers.remove('popup_icon')\n",
    "    result = []\n",
    "\n",
    "    for row in data:\n",
    "        soup = bs(row['field_name'])\n",
    "        field_name = soup.select_one('a, span').text\n",
    "        fields = list(row.values())[2:]\n",
    "        fields.insert(0, field_name)\n",
    "        result.append(fields)\n",
    "\n",
    "    pd.option_context('display.max_rows', None, 'display.max_columns', None)\n",
    "    df = pd.DataFrame(result, columns = headers)\n",
    "\n",
    "    df.set_index('field_name', inplace=True)\n",
    "    \n",
    "    for i in df.columns:\n",
    "        df[i] = pd.to_numeric(df[i],errors='coerce')\n",
    "        \n",
    "    name = company.split('/')\n",
    "    \n",
    "    writer = pd.ExcelWriter('excels/'+name[1]+'.xlsm', engine='openpyxl')\n",
    "    writer.book = openpyxl.load_workbook('excels/'+name[1]+'.xlsm', keep_vba= True)\n",
    "    writer.sheets = {ws.title: ws for ws in writer.book.worksheets}\n",
    "    df.to_excel(writer, sheet_name='Ratios')\n",
    "    workbook = writer.book\n",
    "    workbook.filename = 'excels/'+name[1]+'.xlsm'\n",
    "    writer.save()\n",
    "    writer.close()"
   ]
  },
  {
   "cell_type": "markdown",
   "metadata": {},
   "source": [
    "<a id=stocks></a>"
   ]
  },
  {
   "cell_type": "markdown",
   "metadata": {},
   "source": [
    "## Stocks Data"
   ]
  },
  {
   "cell_type": "code",
   "execution_count": 27,
   "metadata": {},
   "outputs": [],
   "source": [
    "for company in url_code:\n",
    "    stocks = pd.read_html('https://www.macrotrends.net/stocks/charts/'+company+'/stock-price-history', attrs={'class':'historical_data_table table'})\n",
    "    stocks = stocks[0]\n",
    "    stocks.columns = stocks.columns.droplevel()\n",
    "    stocks.set_index('Year')\n",
    "    \n",
    "    name = company.split('/')\n",
    "    \n",
    "    writer = pd.ExcelWriter('excels/'+name[1]+'.xlsm', engine='openpyxl')\n",
    "    writer.book = openpyxl.load_workbook('excels/'+name[1]+'.xlsm', keep_vba= True)\n",
    "    writer.sheets = {ws.title: ws for ws in writer.book.worksheets}\n",
    "    stocks.to_excel(writer, sheet_name='StockPrice')\n",
    "    workbook = writer.book\n",
    "    workbook.remove(workbook['Sheet'])\n",
    "    workbook.filename = 'excels/'+name[1]+'.xlsm'\n",
    "    writer.save()\n",
    "    writer.close()"
   ]
  },
  {
   "cell_type": "markdown",
   "metadata": {},
   "source": [
    "<a id=steps></a>"
   ]
  },
  {
   "cell_type": "markdown",
   "metadata": {},
   "source": [
    "## Next Steps"
   ]
  },
  {
   "cell_type": "markdown",
   "metadata": {},
   "source": [
    "Currently this code is not very efficient, I am thinking on changing some things like creating classes and reducing the number of for loops in the code. "
   ]
  }
 ],
 "metadata": {
  "kernelspec": {
   "display_name": "Python 3",
   "language": "python",
   "name": "python3"
  },
  "language_info": {
   "codemirror_mode": {
    "name": "ipython",
    "version": 3
   },
   "file_extension": ".py",
   "mimetype": "text/x-python",
   "name": "python",
   "nbconvert_exporter": "python",
   "pygments_lexer": "ipython3",
   "version": "3.9.0"
  }
 },
 "nbformat": 4,
 "nbformat_minor": 4
}
