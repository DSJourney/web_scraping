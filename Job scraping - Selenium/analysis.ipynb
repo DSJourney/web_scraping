{
 "cells": [
  {
   "cell_type": "markdown",
   "metadata": {},
   "source": [
    "# Choosing the right title for your resume\n",
    "### The keywords for data science and analogous roles"
   ]
  },
  {
   "cell_type": "markdown",
   "metadata": {},
   "source": [
    "- [Useful prior information](#info)\n",
    "- [Importing libraries](#imports)\n",
    "- [Revising the data](#data)\n",
    "- [Data Wrangling](#wrangling)\n",
    "- [Analysis](#analysis)\n",
    "    - [TF-IDF top words](#tfidf)\n",
    "    - [Multiclass Classification with MultinomialNB](#multi)\n",
    "- [Predicting on New Data](#predict)\n",
    "- [Saving the Data](#saving)\n",
    "- [Next Steps](#steps)"
   ]
  },
  {
   "cell_type": "markdown",
   "metadata": {},
   "source": [
    "<a id=info></a>"
   ]
  },
  {
   "cell_type": "markdown",
   "metadata": {},
   "source": [
    "<div class=\"alert alert-info\">\n",
    "    <H2>Useful Prior Information:</H2>\n",
    "<ul>\n",
    "    <li>This analysis is done for personal use (not commercial). I am looking for a job as a data scientist and I wanted some insights into what keywords I should use and how to present myself in the job market.</li>\n",
    "    <li>The data used here is scraped from Indeed.com but it is not used with any comercial purpose.</li>\n",
    "    <li>The date that the data was extracted was from 20th to the 23rd of October</li>\n",
    "    <li>I hope that the insights gathered here are useful for other people as well.</li>\n",
    "</ul>\n",
    "</div>"
   ]
  },
  {
   "cell_type": "markdown",
   "metadata": {},
   "source": [
    "<a id=imports></a>"
   ]
  },
  {
   "cell_type": "markdown",
   "metadata": {},
   "source": [
    "## Imports"
   ]
  },
  {
   "cell_type": "code",
   "execution_count": 1,
   "metadata": {},
   "outputs": [],
   "source": [
    "#data wrangling libraries\n",
    "import pandas as pd\n",
    "import numpy as np\n",
    "\n",
    "#data visualization libraries\n",
    "import matplotlib.pyplot as plt\n",
    "import seaborn as sns\n",
    "%matplotlib inline\n",
    "sns.set()\n",
    "\n",
    "#text manipulation libraries\n",
    "from sklearn.feature_extraction import text #will allow us to specify stop words\n",
    "from sklearn.feature_extraction.text import TfidfVectorizer\n",
    "from sklearn.feature_extraction.text import CountVectorizer\n",
    "\n",
    "#machine learning libraries\n",
    "from sklearn.model_selection import train_test_split, KFold\n",
    "from sklearn.naive_bayes import MultinomialNB\n",
    "\n",
    "#model evaluation libraries\n",
    "from sklearn.metrics import classification_report, confusion_matrix, accuracy_score"
   ]
  },
  {
   "cell_type": "markdown",
   "metadata": {},
   "source": [
    "<a id=data></a>"
   ]
  },
  {
   "cell_type": "markdown",
   "metadata": {},
   "source": [
    "## Revising the Data\n",
    "\n",
    "The last 10 days of October 2020 I scrapped job descriptions using 6 different combinations of keywords I was interested in these are the keywords I used:\n",
    "\n",
    "- Data Analyst `da`\n",
    "- Business Analyst `ba`\n",
    "- Business Intelligence `bi`\n",
    "- Data Scientist `ds`\n",
    "- Machine Learning `ml`\n",
    "- Software Engineer `se`\n"
   ]
  },
  {
   "cell_type": "code",
   "execution_count": 2,
   "metadata": {},
   "outputs": [],
   "source": [
    "#we upload the dataframes (which are in the data folder)\n",
    "da = pd.read_csv('data/20_10_2020_data analyst_California.csv')\n",
    "ba = pd.read_csv('data/21_10_2020_business analyst_California.csv')\n",
    "bi = pd.read_csv('data/22_10_2020_business intelligence_California.csv')\n",
    "ds = pd.read_csv('data/22_10_2020_data scientist_California.csv')\n",
    "ml = pd.read_csv('data/23_10_2020_machine learning_California.csv')\n",
    "se = pd.read_csv('data/23_10_2020_software engineer_California.csv')"
   ]
  },
  {
   "cell_type": "code",
   "execution_count": 3,
   "metadata": {},
   "outputs": [],
   "source": [
    "#we put the in a list\n",
    "dfs = [da,ba,bi,ds,ml, se]"
   ]
  },
  {
   "cell_type": "code",
   "execution_count": 4,
   "metadata": {},
   "outputs": [
    {
     "data": {
      "text/plain": [
       "[(960, 10), (255, 10), (360, 10), (944, 10), (802, 10), (105, 10)]"
      ]
     },
     "execution_count": 4,
     "metadata": {},
     "output_type": "execute_result"
    }
   ],
   "source": [
    "#let's check the lengths in cols and rows of our dataframes\n",
    "[df.shape for df in dfs]"
   ]
  },
  {
   "cell_type": "code",
   "execution_count": 5,
   "metadata": {},
   "outputs": [
    {
     "name": "stdout",
     "output_type": "stream",
     "text": [
      "<class 'pandas.core.frame.DataFrame'>\n",
      "RangeIndex: 960 entries, 0 to 959\n",
      "Data columns (total 10 columns):\n",
      " #   Column       Non-Null Count  Dtype \n",
      "---  ------       --------------  ----- \n",
      " 0   title        960 non-null    object\n",
      " 1   company      960 non-null    object\n",
      " 2   link         960 non-null    object\n",
      " 3   date_listed  960 non-null    object\n",
      " 4   location     960 non-null    object\n",
      " 5   salary       960 non-null    object\n",
      " 6   remote       960 non-null    object\n",
      " 7   rating       960 non-null    object\n",
      " 8   easy_apply   960 non-null    object\n",
      " 9   description  960 non-null    object\n",
      "dtypes: object(10)\n",
      "memory usage: 75.1+ KB\n"
     ]
    }
   ],
   "source": [
    "#as we can see they all have 10 columns let's see what information we scraped\n",
    "da.info()"
   ]
  },
  {
   "cell_type": "code",
   "execution_count": 6,
   "metadata": {},
   "outputs": [
    {
     "data": {
      "text/html": [
       "<div>\n",
       "<style scoped>\n",
       "    .dataframe tbody tr th:only-of-type {\n",
       "        vertical-align: middle;\n",
       "    }\n",
       "\n",
       "    .dataframe tbody tr th {\n",
       "        vertical-align: top;\n",
       "    }\n",
       "\n",
       "    .dataframe thead th {\n",
       "        text-align: right;\n",
       "    }\n",
       "</style>\n",
       "<table border=\"1\" class=\"dataframe\">\n",
       "  <thead>\n",
       "    <tr style=\"text-align: right;\">\n",
       "      <th></th>\n",
       "      <th>title</th>\n",
       "      <th>company</th>\n",
       "      <th>link</th>\n",
       "      <th>date_listed</th>\n",
       "      <th>location</th>\n",
       "      <th>salary</th>\n",
       "      <th>remote</th>\n",
       "      <th>rating</th>\n",
       "      <th>easy_apply</th>\n",
       "      <th>description</th>\n",
       "    </tr>\n",
       "  </thead>\n",
       "  <tbody>\n",
       "    <tr>\n",
       "      <th>0</th>\n",
       "      <td>Senior Data Analyst (Healthcare and HEDIS expe...</td>\n",
       "      <td>Advantmed</td>\n",
       "      <td>https://www.indeed.com/pagead/clk?mo=r&amp;ad=-6NY...</td>\n",
       "      <td>1 day ago</td>\n",
       "      <td>Santa Ana, CA</td>\n",
       "      <td>$90,000 - $100,000 a year</td>\n",
       "      <td>Remote</td>\n",
       "      <td>3.3</td>\n",
       "      <td>Easily apply</td>\n",
       "      <td>Job Description\\nThe Senior Data Analyst will ...</td>\n",
       "    </tr>\n",
       "    <tr>\n",
       "      <th>1</th>\n",
       "      <td>Data Analyst (Work from home)</td>\n",
       "      <td>Ajilon</td>\n",
       "      <td>https://www.indeed.com/pagead/clk?mo=r&amp;ad=-6NY...</td>\n",
       "      <td>1 day ago</td>\n",
       "      <td>San Francisco, CA 94104 (Financial District area)</td>\n",
       "      <td>$22 an hour</td>\n",
       "      <td>Remote</td>\n",
       "      <td>3.8</td>\n",
       "      <td>None</td>\n",
       "      <td>Position Summary:\\nAssists Litigation Analyst ...</td>\n",
       "    </tr>\n",
       "    <tr>\n",
       "      <th>2</th>\n",
       "      <td>Data Analyst - Payements</td>\n",
       "      <td>Ursus</td>\n",
       "      <td>https://www.indeed.com/pagead/clk?mo=r&amp;ad=-6NY...</td>\n",
       "      <td>12 days ago</td>\n",
       "      <td>Menlo Park, CA</td>\n",
       "      <td>None</td>\n",
       "      <td>None</td>\n",
       "      <td>None</td>\n",
       "      <td>Easily apply</td>\n",
       "      <td>Job Title: Data Analyst - Payments\\nLocation: ...</td>\n",
       "    </tr>\n",
       "    <tr>\n",
       "      <th>3</th>\n",
       "      <td>Junior Data Analyst</td>\n",
       "      <td>Helm360</td>\n",
       "      <td>https://www.indeed.com/company/Helm360/jobs/Ju...</td>\n",
       "      <td>25 days ago</td>\n",
       "      <td>San Diego, CA</td>\n",
       "      <td>$80,000 - $90,000 a year</td>\n",
       "      <td>None</td>\n",
       "      <td>None</td>\n",
       "      <td>Easily apply</td>\n",
       "      <td>· Managing master data, including creation, up...</td>\n",
       "    </tr>\n",
       "    <tr>\n",
       "      <th>4</th>\n",
       "      <td>Data Analyst</td>\n",
       "      <td>Ursus</td>\n",
       "      <td>https://www.indeed.com/pagead/clk?mo=r&amp;ad=-6NY...</td>\n",
       "      <td>3 days ago</td>\n",
       "      <td>San Jose, CA 95110 (Downtown area)</td>\n",
       "      <td>None</td>\n",
       "      <td>None</td>\n",
       "      <td>None</td>\n",
       "      <td>Easily apply</td>\n",
       "      <td>ABOUT THE COMPANY:\\nOur client is the number o...</td>\n",
       "    </tr>\n",
       "  </tbody>\n",
       "</table>\n",
       "</div>"
      ],
      "text/plain": [
       "                                               title    company  \\\n",
       "0  Senior Data Analyst (Healthcare and HEDIS expe...  Advantmed   \n",
       "1                      Data Analyst (Work from home)     Ajilon   \n",
       "2                           Data Analyst - Payements      Ursus   \n",
       "3                                Junior Data Analyst    Helm360   \n",
       "4                                       Data Analyst      Ursus   \n",
       "\n",
       "                                                link  date_listed  \\\n",
       "0  https://www.indeed.com/pagead/clk?mo=r&ad=-6NY...    1 day ago   \n",
       "1  https://www.indeed.com/pagead/clk?mo=r&ad=-6NY...    1 day ago   \n",
       "2  https://www.indeed.com/pagead/clk?mo=r&ad=-6NY...  12 days ago   \n",
       "3  https://www.indeed.com/company/Helm360/jobs/Ju...  25 days ago   \n",
       "4  https://www.indeed.com/pagead/clk?mo=r&ad=-6NY...   3 days ago   \n",
       "\n",
       "                                            location  \\\n",
       "0                                      Santa Ana, CA   \n",
       "1  San Francisco, CA 94104 (Financial District area)   \n",
       "2                                     Menlo Park, CA   \n",
       "3                                      San Diego, CA   \n",
       "4                 San Jose, CA 95110 (Downtown area)   \n",
       "\n",
       "                      salary  remote rating    easy_apply  \\\n",
       "0  $90,000 - $100,000 a year  Remote    3.3  Easily apply   \n",
       "1                $22 an hour  Remote    3.8          None   \n",
       "2                       None    None   None  Easily apply   \n",
       "3   $80,000 - $90,000 a year    None   None  Easily apply   \n",
       "4                       None    None   None  Easily apply   \n",
       "\n",
       "                                         description  \n",
       "0  Job Description\\nThe Senior Data Analyst will ...  \n",
       "1  Position Summary:\\nAssists Litigation Analyst ...  \n",
       "2  Job Title: Data Analyst - Payments\\nLocation: ...  \n",
       "3  · Managing master data, including creation, up...  \n",
       "4  ABOUT THE COMPANY:\\nOur client is the number o...  "
      ]
     },
     "execution_count": 6,
     "metadata": {},
     "output_type": "execute_result"
    }
   ],
   "source": [
    "#now let's check the head to get a better idea\n",
    "da.head()"
   ]
  },
  {
   "cell_type": "markdown",
   "metadata": {},
   "source": [
    "Several things can be done:\n",
    "- The None are note specified, we can assign them `nan` values\n",
    "- For our goal, we just need two columns (title and description), we can drop the other ones and leave them for a future analysis\n",
    "- The descriptions have \\n to specify new lines, we can replace them with spaces\n",
    "- The titles seem to include words that are not useful for our analysis we might be able to separate them to keep the keywords only"
   ]
  },
  {
   "cell_type": "markdown",
   "metadata": {},
   "source": [
    "<a id=wrangling></a>"
   ]
  },
  {
   "cell_type": "markdown",
   "metadata": {},
   "source": [
    "## Data Wrangling\n",
    "\n",
    "Let's start merging the dataframes so we can work with only one. We will assign a new column called `origin`to know from which original dataframe it came from.\n"
   ]
  },
  {
   "cell_type": "code",
   "execution_count": 7,
   "metadata": {},
   "outputs": [],
   "source": [
    "da['origin'] = 'data science'\n",
    "ba['origin'] = 'business analyst'\n",
    "bi['origin'] = 'business intelligence' \n",
    "ds['origin'] = 'data scientist'\n",
    "ml['origin'] = 'machine learning'\n",
    "se['origin'] = 'software engineer'"
   ]
  },
  {
   "cell_type": "code",
   "execution_count": 8,
   "metadata": {},
   "outputs": [],
   "source": [
    "#we concatenate them\n",
    "df = pd.concat(dfs, axis=0, ignore_index=True)"
   ]
  },
  {
   "cell_type": "code",
   "execution_count": 9,
   "metadata": {},
   "outputs": [],
   "source": [
    "#replace None for NaN values \n",
    "df.replace('None', np.nan, inplace=True)"
   ]
  },
  {
   "cell_type": "code",
   "execution_count": 10,
   "metadata": {},
   "outputs": [],
   "source": [
    "#we drop the columns we will not need\n",
    "df.drop(df.columns.difference(['title','description','origin','title_clean']), axis=1, inplace=True)"
   ]
  },
  {
   "cell_type": "code",
   "execution_count": 11,
   "metadata": {},
   "outputs": [],
   "source": [
    "#take out the \\n from the descriptions\n",
    "df['description'] = [x.replace('\\n', ' ') for x in df.description]"
   ]
  },
  {
   "cell_type": "code",
   "execution_count": 12,
   "metadata": {},
   "outputs": [
    {
     "data": {
      "text/plain": [
       "1860"
      ]
     },
     "execution_count": 12,
     "metadata": {},
     "output_type": "execute_result"
    }
   ],
   "source": [
    "#we check how many unique titles we have\n",
    "len(df.title.unique())"
   ]
  },
  {
   "cell_type": "code",
   "execution_count": 13,
   "metadata": {},
   "outputs": [
    {
     "data": {
      "text/plain": [
       "array(['Senior Data Analyst (Healthcare and HEDIS experience)',\n",
       "       'Data Analyst (Work from home)', 'Data Analyst - Payements', ...,\n",
       "       'MTS 2, Software Engineer (Front End)',\n",
       "       'Software Engineer, Front End - Customer Experience',\n",
       "       \"Back End Software Developer Co'op: 2021\"], dtype=object)"
      ]
     },
     "execution_count": 13,
     "metadata": {},
     "output_type": "execute_result"
    }
   ],
   "source": [
    "#we see that some of these titles are long because they provide more information than we need\n",
    "df.title.unique()"
   ]
  },
  {
   "cell_type": "code",
   "execution_count": 14,
   "metadata": {},
   "outputs": [],
   "source": [
    "from collections import Counter, OrderedDict\n",
    "top_words = df['title'].str.cat(sep=', ').split() #this separates our words individually and adds a comma between them\n",
    "top_words = Counter(top_words)                    #this counts which words appear the most and returns a dictionary\n",
    "top_words = OrderedDict({k: v for k, v in         #this returns the dictionary ordered from most common word to least common\n",
    "                         sorted(top_words.items(), key=lambda item: item[1], reverse=True)})\n",
    "\n",
    "words = []                                        #this will generate a list with only the words that appear more than 30 times\n",
    "for key, value in top_words.items():\n",
    "    if value > 30:\n",
    "        words.append(key)"
   ]
  },
  {
   "cell_type": "code",
   "execution_count": 15,
   "metadata": {},
   "outputs": [],
   "source": [
    "#we now remove some words and punctuation that are not relevant for us, we lowercase everything\n",
    "remove = ['-','Sr.','and','&','(Remote),','/','Senior','Sr.','Intelligence,','of','Lead','II,','–','Sr']\n",
    "remove = [x for x in words if x not in remove]\n",
    "remove = [x.replace('[^\\w\\s]','').lower() for x in remove]\n",
    "\n",
    "#some words that did not make the cut but are need to avoid have many empty values are:\n",
    "remove.extend(['developer','database','consultant','statistician'])\n",
    "keep_these_words = [x for x in remove if x not in ['mts','full','end,','intern']]"
   ]
  },
  {
   "cell_type": "code",
   "execution_count": 16,
   "metadata": {},
   "outputs": [
    {
     "data": {
      "text/plain": [
       "['data',\n",
       " 'analyst,',\n",
       " 'business',\n",
       " 'engineer,',\n",
       " 'software',\n",
       " 'scientist,',\n",
       " 'machine',\n",
       " 'learning',\n",
       " 'analyst',\n",
       " 'engineer',\n",
       " 'scientist',\n",
       " 'intelligence',\n",
       " 'learning,',\n",
       " 'manager,',\n",
       " 'analytics,',\n",
       " 'analytics',\n",
       " 'systems',\n",
       " 'deep',\n",
       " 'research',\n",
       " 'staff',\n",
       " 'principal',\n",
       " 'applied',\n",
       " 'science',\n",
       " 'product',\n",
       " 'it',\n",
       " 'operations',\n",
       " 'developer,',\n",
       " 'sales',\n",
       " 'computer',\n",
       " 'bi',\n",
       " 'manager',\n",
       " 'intern,',\n",
       " 'architect,',\n",
       " 'back',\n",
       " 'quality',\n",
       " 'science,',\n",
       " 'ai',\n",
       " 'developer',\n",
       " 'database',\n",
       " 'consultant',\n",
       " 'statistician']"
      ]
     },
     "execution_count": 16,
     "metadata": {},
     "output_type": "execute_result"
    }
   ],
   "source": [
    "keep_these_words"
   ]
  },
  {
   "cell_type": "code",
   "execution_count": 17,
   "metadata": {},
   "outputs": [],
   "source": [
    "#we are ready to clean our title column, we create a new column with the clean text, we create a string that helps us match the keywords above\n",
    "df['title_clean'] = df['title'].str.replace('[^\\w\\s]',' ').str.lower()\n",
    "pat = r'\\b(?:{})\\b'.format('|'.join(keep_these_words))\n",
    "df['title_clean'] = df['title_clean'].str.findall('(' + pat + ')').str.join(' ')\n",
    "df['title_clean'] = df['title_clean'].replace('','None') #this adds \"None\" if a title lost all its words"
   ]
  },
  {
   "cell_type": "code",
   "execution_count": 18,
   "metadata": {},
   "outputs": [
    {
     "data": {
      "text/plain": [
       "25"
      ]
     },
     "execution_count": 18,
     "metadata": {},
     "output_type": "execute_result"
    }
   ],
   "source": [
    "len(df[df['title_clean'] == 'None'])"
   ]
  },
  {
   "cell_type": "code",
   "execution_count": 19,
   "metadata": {},
   "outputs": [
    {
     "data": {
      "text/plain": [
       "828"
      ]
     },
     "execution_count": 19,
     "metadata": {},
     "output_type": "execute_result"
    }
   ],
   "source": [
    "#Let's check value_counts duplicates without taking into account \n",
    "mask = df.duplicated(subset=df.columns.difference(['origin'])) # we could separate these\n",
    "len(df[mask])"
   ]
  },
  {
   "cell_type": "code",
   "execution_count": 20,
   "metadata": {},
   "outputs": [],
   "source": [
    "#we will erase them\n",
    "df = df[~mask]"
   ]
  },
  {
   "cell_type": "code",
   "execution_count": 21,
   "metadata": {},
   "outputs": [
    {
     "data": {
      "image/png": "[encoded data removed]",
      "text/plain": [
       "<Figure size 864x432 with 1 Axes>"
      ]
     },
     "metadata": {},
     "output_type": "display_data"
    }
   ],
   "source": [
    "df_countplot = df['title_clean'].value_counts().head(15)\n",
    "\n",
    "plt.figure(figsize=(12,6))\n",
    "plt.bar(x=df_countplot.index.to_list(),height=df_countplot.values, data=df_countplot)\n",
    "plt.title('Number of position by title (Top 15)', pad=20, size=20)\n",
    "plt.xticks(rotation=45,ha ='right', fontsize=12)\n",
    "plt.grid(False)\n",
    "plt.show()"
   ]
  },
  {
   "cell_type": "code",
   "execution_count": 22,
   "metadata": {},
   "outputs": [],
   "source": [
    "#we can make some assumptions and put some of the trailing titles together with some of the first ones\n",
    "df['title_clean'] = df['title_clean'].map({\n",
    "                       'software engineer machine learning':'machine learning engineer',\n",
    "                       'machine learning':'machine learning engineer',\n",
    "                       'data scientist analytics':'data scientist',\n",
    "                       'principal data scientist':'data scientist',\n",
    "                       'business data analyst':'data analyst',                       \n",
    "                    }).fillna(df['title_clean'])\n",
    "\n",
    "# I was not sure about putting:\n",
    "#   - 'business systems analyst' into 'business analyst' but it seems more of a technical role so I left it out\n",
    "#   - 'business intelligence analyst' into 'business analyst' but I felt it is in between business and data analyst"
   ]
  },
  {
   "cell_type": "code",
   "execution_count": 23,
   "metadata": {},
   "outputs": [],
   "source": [
    "#let's clean the descriptions by removing hyperlinks\n",
    "df['description_clean'] = df['description'].str.replace('http\\S+|www.\\S+', '', case=False)\n",
    "\n",
    "# Removing unwanted characters\n",
    "df['description_clean'] = df['description_clean'].str.replace('[^a-zA-Z]', ' ') #add \"0-9\" before \"a-z\" if you want to keep numbers\n",
    "\n",
    "# Making everything lowercase\n",
    "df['description_clean'] = df['description_clean'].str.lower()"
   ]
  },
  {
   "cell_type": "markdown",
   "metadata": {},
   "source": [
    "<a id=analysis></a>"
   ]
  },
  {
   "cell_type": "markdown",
   "metadata": {},
   "source": [
    "## Analysis"
   ]
  },
  {
   "cell_type": "markdown",
   "metadata": {},
   "source": [
    "We are going to try and make a multiclass text classification of the top 5 titles"
   ]
  },
  {
   "cell_type": "code",
   "execution_count": 24,
   "metadata": {},
   "outputs": [],
   "source": [
    "df = df[df['title_clean'].isin(['data analyst','data scientist','business analyst','software engineer','machine learning engineer'])]"
   ]
  },
  {
   "cell_type": "code",
   "execution_count": 25,
   "metadata": {},
   "outputs": [
    {
     "data": {
      "text/html": [
       "<div>\n",
       "<style scoped>\n",
       "    .dataframe tbody tr th:only-of-type {\n",
       "        vertical-align: middle;\n",
       "    }\n",
       "\n",
       "    .dataframe tbody tr th {\n",
       "        vertical-align: top;\n",
       "    }\n",
       "\n",
       "    .dataframe thead th {\n",
       "        text-align: right;\n",
       "    }\n",
       "</style>\n",
       "<table border=\"1\" class=\"dataframe\">\n",
       "  <thead>\n",
       "    <tr style=\"text-align: right;\">\n",
       "      <th></th>\n",
       "      <th>title</th>\n",
       "      <th>description</th>\n",
       "      <th>origin</th>\n",
       "      <th>description_clean</th>\n",
       "    </tr>\n",
       "    <tr>\n",
       "      <th>title_clean</th>\n",
       "      <th></th>\n",
       "      <th></th>\n",
       "      <th></th>\n",
       "      <th></th>\n",
       "    </tr>\n",
       "  </thead>\n",
       "  <tbody>\n",
       "    <tr>\n",
       "      <th>business analyst</th>\n",
       "      <td>236</td>\n",
       "      <td>236</td>\n",
       "      <td>236</td>\n",
       "      <td>236</td>\n",
       "    </tr>\n",
       "    <tr>\n",
       "      <th>data analyst</th>\n",
       "      <td>369</td>\n",
       "      <td>369</td>\n",
       "      <td>369</td>\n",
       "      <td>369</td>\n",
       "    </tr>\n",
       "    <tr>\n",
       "      <th>data scientist</th>\n",
       "      <td>325</td>\n",
       "      <td>325</td>\n",
       "      <td>325</td>\n",
       "      <td>325</td>\n",
       "    </tr>\n",
       "    <tr>\n",
       "      <th>machine learning engineer</th>\n",
       "      <td>141</td>\n",
       "      <td>141</td>\n",
       "      <td>141</td>\n",
       "      <td>141</td>\n",
       "    </tr>\n",
       "    <tr>\n",
       "      <th>software engineer</th>\n",
       "      <td>166</td>\n",
       "      <td>166</td>\n",
       "      <td>166</td>\n",
       "      <td>166</td>\n",
       "    </tr>\n",
       "  </tbody>\n",
       "</table>\n",
       "</div>"
      ],
      "text/plain": [
       "                           title  description  origin  description_clean\n",
       "title_clean                                                             \n",
       "business analyst             236          236     236                236\n",
       "data analyst                 369          369     369                369\n",
       "data scientist               325          325     325                325\n",
       "machine learning engineer    141          141     141                141\n",
       "software engineer            166          166     166                166"
      ]
     },
     "execution_count": 25,
     "metadata": {},
     "output_type": "execute_result"
    }
   ],
   "source": [
    "df.groupby('title_clean').count()"
   ]
  },
  {
   "cell_type": "code",
   "execution_count": 26,
   "metadata": {},
   "outputs": [],
   "source": [
    "#we assign a value to each title so machines can understand them, I order them from least technical to most technical from my point of view\n",
    "df['label'] = df['title_clean'].map({'business analyst':1,'data analyst':2, 'data scientist':3,'machine learning engineer':4, 'software engineer':5})"
   ]
  },
  {
   "cell_type": "code",
   "execution_count": 27,
   "metadata": {},
   "outputs": [],
   "source": [
    "#another option is to use category_encoders library\n",
    "#import category_encoders as ce   # version 1.2.8\n",
    "#ce_ord = ce.OrdinalEncoder(cols = ['title_clean'])\n",
    "#ce_ord.fit_transform(df['title_clean']) "
   ]
  },
  {
   "cell_type": "markdown",
   "metadata": {},
   "source": [
    "<a id=tfidf></a>"
   ]
  },
  {
   "cell_type": "markdown",
   "metadata": {},
   "source": [
    "### TF-IDF top words\n",
    "TFIDF, short for term frequency–inverse document frequency, is a numerical statistic that is intended to reflect how important a word is to a document in a collection or corpus. (wikipedia)"
   ]
  },
  {
   "cell_type": "code",
   "execution_count": 28,
   "metadata": {},
   "outputs": [],
   "source": [
    "#We are adding the English stop words and other words that add noise to our analysis\n",
    "additional_stop_words = ['description','business','data','analyst','scientist','scientists','science','machine','learning','software','engineer','ml','company','job'] #some words that appear a lot but do not add value\n",
    "stop_words = text.ENGLISH_STOP_WORDS.union(additional_stop_words)"
   ]
  },
  {
   "cell_type": "markdown",
   "metadata": {},
   "source": [
    "From [Susan Li's article](https://towardsdatascience.com/multi-class-text-classification-with-scikit-learn-12f1e60e0a9f) on `Towards Data Science`\n",
    "\n",
    "- `sublinear_df` is set to `True` to use a logarithmic form for frequency.\n",
    "- `min_df` is the minimum numbers (or percentage) of documents a word must be present in to be kept.\n",
    "- `norm` is set to `l2`, to ensure all our feature vectors have a euclidian norm of 1.\n",
    "- `ngram_range` is set to `(1, 2)` to indicate that we want to consider both unigrams and bigrams.\n",
    "- `stop_words` is set to the stops words of the previous lines to remove all common pronouns (\"a\", \"the\", ...) to reduce the number of noisy features."
   ]
  },
  {
   "cell_type": "code",
   "execution_count": 29,
   "metadata": {},
   "outputs": [
    {
     "data": {
      "text/plain": [
       "(1237, 1167)"
      ]
     },
     "execution_count": 29,
     "metadata": {},
     "output_type": "execute_result"
    }
   ],
   "source": [
    "#this calculates the TF-IDF\n",
    "tfidf = TfidfVectorizer(sublinear_tf=True, min_df=0.05, norm='l2', encoding='latin-1', ngram_range=(1, 2), stop_words=stop_words)\n",
    "features = tfidf.fit_transform(df.description_clean).toarray()\n",
    "labels = df.label\n",
    "features.shape"
   ]
  },
  {
   "cell_type": "code",
   "execution_count": 30,
   "metadata": {},
   "outputs": [],
   "source": [
    "label_id = dict(zip(df.title_clean, df.label))"
   ]
  },
  {
   "cell_type": "code",
   "execution_count": 31,
   "metadata": {},
   "outputs": [
    {
     "data": {
      "text/html": [
       "<div>\n",
       "<style scoped>\n",
       "    .dataframe tbody tr th:only-of-type {\n",
       "        vertical-align: middle;\n",
       "    }\n",
       "\n",
       "    .dataframe tbody tr th {\n",
       "        vertical-align: top;\n",
       "    }\n",
       "\n",
       "    .dataframe thead th {\n",
       "        text-align: right;\n",
       "    }\n",
       "</style>\n",
       "<table border=\"1\" class=\"dataframe\">\n",
       "  <thead>\n",
       "    <tr style=\"text-align: right;\">\n",
       "      <th></th>\n",
       "      <th>business analyst</th>\n",
       "      <th>data analyst</th>\n",
       "      <th>data scientist</th>\n",
       "      <th>machine learning engineer</th>\n",
       "      <th>software engineer</th>\n",
       "    </tr>\n",
       "  </thead>\n",
       "  <tbody>\n",
       "    <tr>\n",
       "      <th>0</th>\n",
       "      <td>project</td>\n",
       "      <td>reports</td>\n",
       "      <td>predictive</td>\n",
       "      <td>tensorflow</td>\n",
       "      <td>backend</td>\n",
       "    </tr>\n",
       "    <tr>\n",
       "      <th>1</th>\n",
       "      <td>specifications</td>\n",
       "      <td>reporting</td>\n",
       "      <td>statistics</td>\n",
       "      <td>pytorch</td>\n",
       "      <td>stack</td>\n",
       "    </tr>\n",
       "    <tr>\n",
       "      <th>2</th>\n",
       "      <td>document</td>\n",
       "      <td>excel</td>\n",
       "      <td>models</td>\n",
       "      <td>art</td>\n",
       "      <td>distributed</td>\n",
       "    </tr>\n",
       "    <tr>\n",
       "      <th>3</th>\n",
       "      <td>assist</td>\n",
       "      <td>tableau</td>\n",
       "      <td>statistical</td>\n",
       "      <td>deep</td>\n",
       "      <td>javascript</td>\n",
       "    </tr>\n",
       "    <tr>\n",
       "      <th>4</th>\n",
       "      <td>documents</td>\n",
       "      <td>microsoft</td>\n",
       "      <td>phd</td>\n",
       "      <td>frameworks</td>\n",
       "      <td>architecture</td>\n",
       "    </tr>\n",
       "    <tr>\n",
       "      <th>5</th>\n",
       "      <td>processes</td>\n",
       "      <td>algorithms</td>\n",
       "      <td>regression</td>\n",
       "      <td>object</td>\n",
       "      <td>java</td>\n",
       "    </tr>\n",
       "    <tr>\n",
       "      <th>6</th>\n",
       "      <td>planning</td>\n",
       "      <td>dashboards</td>\n",
       "      <td>experiments</td>\n",
       "      <td>deploy</td>\n",
       "      <td>scalability</td>\n",
       "    </tr>\n",
       "    <tr>\n",
       "      <th>7</th>\n",
       "      <td>administration</td>\n",
       "      <td>ai</td>\n",
       "      <td>modeling</td>\n",
       "      <td>algorithms</td>\n",
       "      <td>code</td>\n",
       "    </tr>\n",
       "    <tr>\n",
       "      <th>8</th>\n",
       "      <td>accounting</td>\n",
       "      <td>tensorflow</td>\n",
       "      <td>mining</td>\n",
       "      <td>detection</td>\n",
       "      <td>web</td>\n",
       "    </tr>\n",
       "    <tr>\n",
       "      <th>9</th>\n",
       "      <td>management</td>\n",
       "      <td>bi</td>\n",
       "      <td>physics</td>\n",
       "      <td>models</td>\n",
       "      <td>nosql</td>\n",
       "    </tr>\n",
       "    <tr>\n",
       "      <th>10</th>\n",
       "      <td>project management</td>\n",
       "      <td>state art</td>\n",
       "      <td>quantitative field</td>\n",
       "      <td>state art</td>\n",
       "      <td>distributed systems</td>\n",
       "    </tr>\n",
       "    <tr>\n",
       "      <th>11</th>\n",
       "      <td>management skills</td>\n",
       "      <td>duties assigned</td>\n",
       "      <td>statistical analysis</td>\n",
       "      <td>artificial intelligence</td>\n",
       "      <td>development experience</td>\n",
       "    </tr>\n",
       "    <tr>\n",
       "      <th>12</th>\n",
       "      <td>subject matter</td>\n",
       "      <td>distributed systems</td>\n",
       "      <td>degree quantitative</td>\n",
       "      <td>real world</td>\n",
       "      <td>large scale</td>\n",
       "    </tr>\n",
       "    <tr>\n",
       "      <th>13</th>\n",
       "      <td>state art</td>\n",
       "      <td>large scale</td>\n",
       "      <td>programming skills</td>\n",
       "      <td>python experience</td>\n",
       "      <td>open source</td>\n",
       "    </tr>\n",
       "    <tr>\n",
       "      <th>14</th>\n",
       "      <td>monday friday</td>\n",
       "      <td>ad hoc</td>\n",
       "      <td>identity gender</td>\n",
       "      <td>large scale</td>\n",
       "      <td>design implement</td>\n",
       "    </tr>\n",
       "    <tr>\n",
       "      <th>15</th>\n",
       "      <td>large scale</td>\n",
       "      <td>open source</td>\n",
       "      <td>non technical</td>\n",
       "      <td>experience building</td>\n",
       "      <td>protected status</td>\n",
       "    </tr>\n",
       "    <tr>\n",
       "      <th>16</th>\n",
       "      <td>distributed systems</td>\n",
       "      <td>real world</td>\n",
       "      <td>track record</td>\n",
       "      <td>cutting edge</td>\n",
       "      <td>design development</td>\n",
       "    </tr>\n",
       "    <tr>\n",
       "      <th>17</th>\n",
       "      <td>strong analytical</td>\n",
       "      <td>experience building</td>\n",
       "      <td>gender expression</td>\n",
       "      <td>status veteran</td>\n",
       "      <td>employer qualified</td>\n",
       "    </tr>\n",
       "    <tr>\n",
       "      <th>18</th>\n",
       "      <td>analytical skills</td>\n",
       "      <td>engineering team</td>\n",
       "      <td>real world</td>\n",
       "      <td>open source</td>\n",
       "      <td>legally protected</td>\n",
       "    </tr>\n",
       "    <tr>\n",
       "      <th>19</th>\n",
       "      <td>statistical analysis</td>\n",
       "      <td>artificial intelligence</td>\n",
       "      <td>education bachelor</td>\n",
       "      <td>engineering team</td>\n",
       "      <td>local law</td>\n",
       "    </tr>\n",
       "  </tbody>\n",
       "</table>\n",
       "</div>"
      ],
      "text/plain": [
       "        business analyst             data analyst        data scientist  \\\n",
       "0                project                  reports            predictive   \n",
       "1         specifications                reporting            statistics   \n",
       "2               document                    excel                models   \n",
       "3                 assist                  tableau           statistical   \n",
       "4              documents                microsoft                   phd   \n",
       "5              processes               algorithms            regression   \n",
       "6               planning               dashboards           experiments   \n",
       "7         administration                       ai              modeling   \n",
       "8             accounting               tensorflow                mining   \n",
       "9             management                       bi               physics   \n",
       "10    project management                state art    quantitative field   \n",
       "11     management skills          duties assigned  statistical analysis   \n",
       "12        subject matter      distributed systems   degree quantitative   \n",
       "13             state art              large scale    programming skills   \n",
       "14         monday friday                   ad hoc       identity gender   \n",
       "15           large scale              open source         non technical   \n",
       "16   distributed systems               real world          track record   \n",
       "17     strong analytical      experience building     gender expression   \n",
       "18     analytical skills         engineering team            real world   \n",
       "19  statistical analysis  artificial intelligence    education bachelor   \n",
       "\n",
       "   machine learning engineer       software engineer  \n",
       "0                 tensorflow                 backend  \n",
       "1                    pytorch                   stack  \n",
       "2                        art             distributed  \n",
       "3                       deep              javascript  \n",
       "4                 frameworks            architecture  \n",
       "5                     object                    java  \n",
       "6                     deploy             scalability  \n",
       "7                 algorithms                    code  \n",
       "8                  detection                     web  \n",
       "9                     models                   nosql  \n",
       "10                 state art     distributed systems  \n",
       "11   artificial intelligence  development experience  \n",
       "12                real world             large scale  \n",
       "13         python experience             open source  \n",
       "14               large scale        design implement  \n",
       "15       experience building        protected status  \n",
       "16              cutting edge      design development  \n",
       "17            status veteran      employer qualified  \n",
       "18               open source       legally protected  \n",
       "19          engineering team               local law  "
      ]
     },
     "execution_count": 31,
     "metadata": {},
     "output_type": "execute_result"
    }
   ],
   "source": [
    "from sklearn.feature_selection import chi2\n",
    "\n",
    "grams = {}\n",
    "\n",
    "N = 10\n",
    "for title, label in sorted(label_id.items()):\n",
    "    features_chi2 = chi2(features, labels == label)\n",
    "    indices = np.argsort(features_chi2[0])\n",
    "    feature_names = np.array(tfidf.get_feature_names())[indices]\n",
    "    unigrams = [v for v in feature_names if len(v.split(' ')) == 1]\n",
    "    bigrams = [v for v in feature_names if len(v.split(' ')) == 2]\n",
    "    grams[title] = unigrams[-N:][::-1] + bigrams[-N:][::-1]\n",
    "\n",
    "pd.DataFrame(grams)"
   ]
  },
  {
   "cell_type": "markdown",
   "metadata": {},
   "source": [
    "<id a=multi></a>"
   ]
  },
  {
   "cell_type": "markdown",
   "metadata": {},
   "source": [
    "### Multiclass Classification with MultinomialNB"
   ]
  },
  {
   "cell_type": "markdown",
   "metadata": {},
   "source": [
    "Here is the documentation for Sklearn's [MultinomialNB](https://scikit-learn.org/stable/modules/generated/sklearn.naive_bayes.MultinomialNB.html)"
   ]
  },
  {
   "cell_type": "code",
   "execution_count": 32,
   "metadata": {},
   "outputs": [],
   "source": [
    "#This will basically apply the vectorizer and separate the X and y\n",
    "def make_xy(dataframe, text_column, target, vectorizer=None):    \n",
    "    \"\"\"Applies countvectorizer to our data and separates it between our predictors and our target variable\"\"\"\n",
    "    if vectorizer is None:\n",
    "        vectorizer = CountVectorizer(min_df=0.05,max_df=0.9, stop_words=stop_words)\n",
    "    X = vectorizer.fit_transform(dataframe[text_column])\n",
    "    X = X.tocsc() \n",
    "    y = dataframe[target]\n",
    "    return X, y\n",
    "\n",
    "#this will do the train test split, calculate the MultinomialNB, and return the results with some metrics.\n",
    "def MNB(chosen_alpha, chosen_min_df, chosen_max_df):\n",
    "    \"\"\"In this function you pass the alpha and min_df of your choice and it will calculate the MultinomialNB\"\"\"\n",
    "    vectorizer = CountVectorizer(min_df=chosen_min_df, max_df=chosen_max_df, stop_words=stop_words, ngram_range=(1,2))\n",
    "    X, y = make_xy(df, 'description_clean', target_column, vectorizer)\n",
    "    X_train, X_test, y_train, y_test = train_test_split(X, y, test_size=0.3, random_state=42)\n",
    "\n",
    "    clf = MultinomialNB(alpha=chosen_alpha)\n",
    "    clf.fit(X_train, y_train)\n",
    "    y_pred = clf.predict(X_test)\n",
    "\n",
    "    print('Classification Report')\n",
    "    print(classification_report(y_test, y_pred))\n",
    "    print('-'*20)\n",
    "    print('Confussion Matrix')\n",
    "    print(confusion_matrix(y_test,y_pred))\n",
    "    print('-'*20)\n",
    "    print('Accuracy Score (y_train, predict(X_train) & y_test, y_pred)')\n",
    "    print(accuracy_score(y_train,clf.predict(X_train)))\n",
    "    print(accuracy_score(y_test,y_pred))\n",
    "    \n",
    "    return clf, vectorizer, X_test"
   ]
  },
  {
   "cell_type": "code",
   "execution_count": 33,
   "metadata": {},
   "outputs": [],
   "source": [
    "target_column = 'title_clean'"
   ]
  },
  {
   "cell_type": "code",
   "execution_count": 34,
   "metadata": {},
   "outputs": [
    {
     "name": "stdout",
     "output_type": "stream",
     "text": [
      "Classification Report\n",
      "                           precision    recall  f1-score   support\n",
      "\n",
      "         business analyst       0.70      0.64      0.67        72\n",
      "             data analyst       0.72      0.66      0.68       116\n",
      "           data scientist       0.66      0.81      0.73        86\n",
      "machine learning engineer       0.65      0.68      0.67        50\n",
      "        software engineer       0.83      0.73      0.78        48\n",
      "\n",
      "                 accuracy                           0.70       372\n",
      "                macro avg       0.71      0.70      0.70       372\n",
      "             weighted avg       0.71      0.70      0.70       372\n",
      "\n",
      "--------------------\n",
      "Confussion Matrix\n",
      "[[46 22  4  0  0]\n",
      " [19 76 20  0  1]\n",
      " [ 0  7 70  8  1]\n",
      " [ 0  0 11 34  5]\n",
      " [ 1  1  1 10 35]]\n",
      "--------------------\n",
      "Accuracy Score (y_train, predict(X_train) & y_test, y_pred)\n",
      "0.7907514450867053\n",
      "0.7016129032258065\n"
     ]
    }
   ],
   "source": [
    "clf, vectorizer, X_test = MNB(chosen_alpha=0.5, chosen_min_df=0.05, chosen_max_df=0.9)"
   ]
  },
  {
   "cell_type": "code",
   "execution_count": 35,
   "metadata": {},
   "outputs": [],
   "source": [
    "x = np.eye(X_test.shape[1])\n",
    "\n",
    "probabilities = pd.DataFrame(clf.predict_proba(x), \n",
    "                             index=np.array(vectorizer.get_feature_names()),\n",
    "                             columns=clf.classes_)"
   ]
  },
  {
   "cell_type": "code",
   "execution_count": 36,
   "metadata": {},
   "outputs": [],
   "source": [
    "top_values = {}\n",
    "for col in probabilities.columns:\n",
    "    top_values[col] = probabilities[col].sort_values(ascending=False).head(20).index"
   ]
  },
  {
   "cell_type": "code",
   "execution_count": 37,
   "metadata": {},
   "outputs": [
    {
     "data": {
      "text/html": [
       "<div>\n",
       "<style scoped>\n",
       "    .dataframe tbody tr th:only-of-type {\n",
       "        vertical-align: middle;\n",
       "    }\n",
       "\n",
       "    .dataframe tbody tr th {\n",
       "        vertical-align: top;\n",
       "    }\n",
       "\n",
       "    .dataframe thead th {\n",
       "        text-align: right;\n",
       "    }\n",
       "</style>\n",
       "<table border=\"1\" class=\"dataframe\">\n",
       "  <thead>\n",
       "    <tr style=\"text-align: right;\">\n",
       "      <th></th>\n",
       "      <th>business analyst</th>\n",
       "      <th>data analyst</th>\n",
       "      <th>data scientist</th>\n",
       "      <th>machine learning engineer</th>\n",
       "      <th>software engineer</th>\n",
       "    </tr>\n",
       "  </thead>\n",
       "  <tbody>\n",
       "    <tr>\n",
       "      <th>0</th>\n",
       "      <td>specifications</td>\n",
       "      <td>reports</td>\n",
       "      <td>regression</td>\n",
       "      <td>pytorch</td>\n",
       "      <td>backend</td>\n",
       "    </tr>\n",
       "    <tr>\n",
       "      <th>1</th>\n",
       "      <td>gather</td>\n",
       "      <td>interpret</td>\n",
       "      <td>physics</td>\n",
       "      <td>state art</td>\n",
       "      <td>distributed systems</td>\n",
       "    </tr>\n",
       "    <tr>\n",
       "      <th>2</th>\n",
       "      <td>administration</td>\n",
       "      <td>bi</td>\n",
       "      <td>phd</td>\n",
       "      <td>tensorflow</td>\n",
       "      <td>javascript</td>\n",
       "    </tr>\n",
       "    <tr>\n",
       "      <th>3</th>\n",
       "      <td>workflow</td>\n",
       "      <td>tables</td>\n",
       "      <td>experiments</td>\n",
       "      <td>art</td>\n",
       "      <td>scalability</td>\n",
       "    </tr>\n",
       "    <tr>\n",
       "      <th>4</th>\n",
       "      <td>accounting</td>\n",
       "      <td>reporting</td>\n",
       "      <td>predictive</td>\n",
       "      <td>deploy</td>\n",
       "      <td>stack</td>\n",
       "    </tr>\n",
       "    <tr>\n",
       "      <th>5</th>\n",
       "      <td>document</td>\n",
       "      <td>microsoft</td>\n",
       "      <td>quantitative field</td>\n",
       "      <td>deep</td>\n",
       "      <td>java</td>\n",
       "    </tr>\n",
       "    <tr>\n",
       "      <th>6</th>\n",
       "      <td>consulting</td>\n",
       "      <td>duties assigned</td>\n",
       "      <td>mining</td>\n",
       "      <td>libraries</td>\n",
       "      <td>nosql</td>\n",
       "    </tr>\n",
       "    <tr>\n",
       "      <th>7</th>\n",
       "      <td>project</td>\n",
       "      <td>collection</td>\n",
       "      <td>spark</td>\n",
       "      <td>python experience</td>\n",
       "      <td>architecture</td>\n",
       "    </tr>\n",
       "    <tr>\n",
       "      <th>8</th>\n",
       "      <td>meetings</td>\n",
       "      <td>clinical</td>\n",
       "      <td>degree quantitative</td>\n",
       "      <td>artificial intelligence</td>\n",
       "      <td>distributed</td>\n",
       "    </tr>\n",
       "    <tr>\n",
       "      <th>9</th>\n",
       "      <td>objectives</td>\n",
       "      <td>report</td>\n",
       "      <td>identity gender</td>\n",
       "      <td>novel</td>\n",
       "      <td>linux</td>\n",
       "    </tr>\n",
       "    <tr>\n",
       "      <th>10</th>\n",
       "      <td>documents</td>\n",
       "      <td>visualizations</td>\n",
       "      <td>series</td>\n",
       "      <td>real world</td>\n",
       "      <td>web</td>\n",
       "    </tr>\n",
       "    <tr>\n",
       "      <th>11</th>\n",
       "      <td>scope</td>\n",
       "      <td>excel</td>\n",
       "      <td>statistics</td>\n",
       "      <td>object</td>\n",
       "      <td>code</td>\n",
       "    </tr>\n",
       "    <tr>\n",
       "      <th>12</th>\n",
       "      <td>assist</td>\n",
       "      <td>department</td>\n",
       "      <td>programming skills</td>\n",
       "      <td>nlp</td>\n",
       "      <td>development experience</td>\n",
       "    </tr>\n",
       "    <tr>\n",
       "      <th>13</th>\n",
       "      <td>cases</td>\n",
       "      <td>insight</td>\n",
       "      <td>audiences</td>\n",
       "      <td>artificial</td>\n",
       "      <td>protected status</td>\n",
       "    </tr>\n",
       "    <tr>\n",
       "      <th>14</th>\n",
       "      <td>certification</td>\n",
       "      <td>organize</td>\n",
       "      <td>methods</td>\n",
       "      <td>familiar</td>\n",
       "      <td>security</td>\n",
       "    </tr>\n",
       "    <tr>\n",
       "      <th>15</th>\n",
       "      <td>changes</td>\n",
       "      <td>inform</td>\n",
       "      <td>hive</td>\n",
       "      <td>frameworks</td>\n",
       "      <td>object</td>\n",
       "    </tr>\n",
       "    <tr>\n",
       "      <th>16</th>\n",
       "      <td>gathering</td>\n",
       "      <td>queries</td>\n",
       "      <td>mathematical</td>\n",
       "      <td>computing</td>\n",
       "      <td>li</td>\n",
       "    </tr>\n",
       "    <tr>\n",
       "      <th>17</th>\n",
       "      <td>subject matter</td>\n",
       "      <td>compliance</td>\n",
       "      <td>statistical</td>\n",
       "      <td>edge</td>\n",
       "      <td>eeo</td>\n",
       "    </tr>\n",
       "    <tr>\n",
       "      <th>18</th>\n",
       "      <td>detailed</td>\n",
       "      <td>tableau</td>\n",
       "      <td>discover</td>\n",
       "      <td>masters</td>\n",
       "      <td>team responsible</td>\n",
       "    </tr>\n",
       "    <tr>\n",
       "      <th>19</th>\n",
       "      <td>planning</td>\n",
       "      <td>organized</td>\n",
       "      <td>behavior</td>\n",
       "      <td>detection</td>\n",
       "      <td>open source</td>\n",
       "    </tr>\n",
       "  </tbody>\n",
       "</table>\n",
       "</div>"
      ],
      "text/plain": [
       "   business analyst     data analyst       data scientist  \\\n",
       "0    specifications          reports           regression   \n",
       "1            gather        interpret              physics   \n",
       "2    administration               bi                  phd   \n",
       "3          workflow           tables          experiments   \n",
       "4        accounting        reporting           predictive   \n",
       "5          document        microsoft   quantitative field   \n",
       "6        consulting  duties assigned               mining   \n",
       "7           project       collection                spark   \n",
       "8          meetings         clinical  degree quantitative   \n",
       "9        objectives           report      identity gender   \n",
       "10        documents   visualizations               series   \n",
       "11            scope            excel           statistics   \n",
       "12           assist       department   programming skills   \n",
       "13            cases          insight            audiences   \n",
       "14    certification         organize              methods   \n",
       "15          changes           inform                 hive   \n",
       "16        gathering          queries         mathematical   \n",
       "17   subject matter       compliance          statistical   \n",
       "18         detailed          tableau             discover   \n",
       "19         planning        organized             behavior   \n",
       "\n",
       "   machine learning engineer       software engineer  \n",
       "0                    pytorch                 backend  \n",
       "1                  state art     distributed systems  \n",
       "2                 tensorflow              javascript  \n",
       "3                        art             scalability  \n",
       "4                     deploy                   stack  \n",
       "5                       deep                    java  \n",
       "6                  libraries                   nosql  \n",
       "7          python experience            architecture  \n",
       "8    artificial intelligence             distributed  \n",
       "9                      novel                   linux  \n",
       "10                real world                     web  \n",
       "11                    object                    code  \n",
       "12                       nlp  development experience  \n",
       "13                artificial        protected status  \n",
       "14                  familiar                security  \n",
       "15                frameworks                  object  \n",
       "16                 computing                      li  \n",
       "17                      edge                     eeo  \n",
       "18                   masters        team responsible  \n",
       "19                 detection             open source  "
      ]
     },
     "execution_count": 37,
     "metadata": {},
     "output_type": "execute_result"
    }
   ],
   "source": [
    "pd.DataFrame(top_values)"
   ]
  },
  {
   "cell_type": "code",
   "execution_count": 38,
   "metadata": {},
   "outputs": [
    {
     "data": {
      "text/plain": [
       "business analyst             0.027353\n",
       "data analyst                 0.191539\n",
       "data scientist               0.430080\n",
       "machine learning engineer    0.205430\n",
       "software engineer            0.145598\n",
       "Name: python, dtype: float64"
      ]
     },
     "execution_count": 38,
     "metadata": {},
     "output_type": "execute_result"
    }
   ],
   "source": [
    "#we can check certain words how good predictors are of each class: try python, sql, excel, etc.\n",
    "check_word = 'python'\n",
    "probabilities.loc[check_word]"
   ]
  },
  {
   "cell_type": "markdown",
   "metadata": {},
   "source": [
    "<a id=predict></a>"
   ]
  },
  {
   "cell_type": "markdown",
   "metadata": {},
   "source": [
    "## Predicting on new data"
   ]
  },
  {
   "cell_type": "code",
   "execution_count": 39,
   "metadata": {},
   "outputs": [],
   "source": [
    "test = [\"\"\"_____ and _____ with 7+ years of experience. Excellent working knowledge of Python, Tableau, PostgreSQL, MongoDB, and statistics to wrangle complex datasets and to provide actionable business insights. \n",
    "        PMP certified project manager with an extensive entrepreneurial background as former co-founder & CFO of a startup.\"\"\"]\n",
    "test = [x.lower() for x in test]"
   ]
  },
  {
   "cell_type": "code",
   "execution_count": 40,
   "metadata": {},
   "outputs": [
    {
     "name": "stdout",
     "output_type": "stream",
     "text": [
      "['data scientist']\n"
     ]
    }
   ],
   "source": [
    "print(clf.predict(vectorizer.transform(test)))"
   ]
  },
  {
   "cell_type": "markdown",
   "metadata": {},
   "source": [
    "<a id=saving></a>"
   ]
  },
  {
   "cell_type": "markdown",
   "metadata": {},
   "source": [
    "## Saving the Data"
   ]
  },
  {
   "cell_type": "code",
   "execution_count": 41,
   "metadata": {},
   "outputs": [],
   "source": [
    "probabilities.to_csv('data/probabilities.csv', index=True)"
   ]
  },
  {
   "cell_type": "code",
   "execution_count": 42,
   "metadata": {},
   "outputs": [],
   "source": [
    "import pickle\n",
    "filename = 'model/Multinomial_NB.sav'\n",
    "pickle.dump(clf, open(filename, 'wb'))\n",
    "\n",
    "filename = 'model/Vectorizer.sav'\n",
    "pickle.dump(vectorizer, open(filename, 'wb'))"
   ]
  },
  {
   "cell_type": "markdown",
   "metadata": {},
   "source": [
    "<a id=steps></a>"
   ]
  },
  {
   "cell_type": "markdown",
   "metadata": {},
   "source": [
    "## Next Steps"
   ]
  },
  {
   "cell_type": "markdown",
   "metadata": {},
   "source": [
    "Here are a set of different things to do with this dataset in the future:\n",
    "- Use other [multiclass classifiers](https://scikit-learn.org/stable/modules/multiclass.html) to predict our labels (e.g. LogisticRegression, LinearSVC, ExtraTreeClassifier)\n",
    "- Do GridSearch or RandomSearch to find the best parameters\n",
    "- Analyze the other features in the dataset"
   ]
  }
 ],
 "metadata": {
  "kernelspec": {
   "display_name": "Python 3",
   "language": "python",
   "name": "python3"
  },
  "language_info": {
   "codemirror_mode": {
    "name": "ipython",
    "version": 3
   },
   "file_extension": ".py",
   "mimetype": "text/x-python",
   "name": "python",
   "nbconvert_exporter": "python",
   "pygments_lexer": "ipython3",
   "version": "3.9.0"
  }
 },
 "nbformat": 4,
 "nbformat_minor": 4
}
